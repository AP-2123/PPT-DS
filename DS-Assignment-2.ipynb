{
 "cells": [
  {
   "cell_type": "markdown",
   "id": "52c3c900",
   "metadata": {},
   "source": [
    "#### 1. Scenario: A company wants to analyze the sales performance of its products in different regions. They have collected the following data:\n",
    "   Region A: [10, 15, 12, 8, 14]\n",
    "   \n",
    "   Region B: [18, 20, 16, 22, 25]\n",
    "   \n",
    "   Calculate the mean sales for each region.\n"
   ]
  },
  {
   "cell_type": "code",
   "execution_count": 1,
   "id": "591a8b67",
   "metadata": {},
   "outputs": [],
   "source": [
    "import numpy as np\n",
    "import statistics as st"
   ]
  },
  {
   "cell_type": "code",
   "execution_count": 2,
   "id": "5d3de91e",
   "metadata": {},
   "outputs": [
    {
     "name": "stdout",
     "output_type": "stream",
     "text": [
      "Mean sales for region A is 11.8\n",
      "Mean sales for region B is 20.2\n"
     ]
    }
   ],
   "source": [
    "Region_A = [10, 15, 12, 8, 14]\n",
    "    \n",
    "Region_B= [18, 20, 16, 22, 25]\n",
    "    \n",
    "mean_region_a = st.mean(Region_A)\n",
    "mean_region_b = st.mean(Region_B)\n",
    "\n",
    "print(f\"Mean sales for region A is {mean_region_a}\")\n",
    "print(f\"Mean sales for region B is {mean_region_b}\")"
   ]
  },
  {
   "cell_type": "markdown",
   "id": "0f18b2ab",
   "metadata": {},
   "source": [
    "#### 2. Scenario: A survey is conducted to measure customer satisfaction on a scale of 1 to 5. \n",
    "\n",
    "The data collected is as follows:\n",
    "    \n",
    "[4, 5, 2, 3, 5, 4, 3, 2, 4, 5]\n",
    "\n",
    "Calculate the mode of the survey responses.\n"
   ]
  },
  {
   "cell_type": "code",
   "execution_count": 3,
   "id": "d5e0d998",
   "metadata": {},
   "outputs": [
    {
     "name": "stdout",
     "output_type": "stream",
     "text": [
      "Mode of survey response 4\n"
     ]
    }
   ],
   "source": [
    "arr = [4, 5, 2, 3, 5, 4, 3, 2, 4, 5]\n",
    "mode = st.mode(arr)\n",
    "print(f\"Mode of survey response {mode}\")"
   ]
  },
  {
   "cell_type": "markdown",
   "id": "4296a11a",
   "metadata": {},
   "source": [
    "#### 3. Scenario: A company wants to compare the salaries of two departments. The salary data for Department A and Department B are as follows:\n",
    "\n",
    "   Department A: [5000, 6000, 5500, 7000]\n",
    "        \n",
    "   Department B: [4500, 5500, 5800, 6000, 5200]\n",
    "    \n",
    "Calculate the median salary for each department.\n"
   ]
  },
  {
   "cell_type": "code",
   "execution_count": 4,
   "id": "9885e1bb",
   "metadata": {},
   "outputs": [
    {
     "name": "stdout",
     "output_type": "stream",
     "text": [
      "Median salary of department A is 5750.0\n",
      "Median salary of department B is 5500\n"
     ]
    }
   ],
   "source": [
    "Department_A = [5000, 6000, 5500, 7000]\n",
    "\n",
    "Department_B = [4500, 5500, 5800, 6000, 5200]\n",
    "\n",
    "median_salary_A = st.median(Department_A)\n",
    "median_salary_B = st.median(Department_B)\n",
    "\n",
    "print(f\"Median salary of department A is {median_salary_A}\")\n",
    "print(f\"Median salary of department B is {median_salary_B}\")"
   ]
  },
  {
   "cell_type": "markdown",
   "id": "afc1f506",
   "metadata": {},
   "source": [
    "#### 4. Scenario: A data analyst wants to determine the variability in the daily stock prices of a company. The data collected is as follows:\n",
    "\n",
    "[25.5, 24.8, 26.1, 25.3, 24.9]\n",
    "\n",
    "Calculate the range of the stock prices.\n"
   ]
  },
  {
   "cell_type": "code",
   "execution_count": 5,
   "id": "19543e11",
   "metadata": {},
   "outputs": [
    {
     "name": "stdout",
     "output_type": "stream",
     "text": [
      "Range of stock prices:1.3000000000000007\n"
     ]
    }
   ],
   "source": [
    "stock_prices = [25.5, 24.8, 26.1, 25.3, 24.9]\n",
    "price_range = max(stock_prices) - min(stock_prices)\n",
    "print(f\"Range of stock prices:{price_range}\")"
   ]
  },
  {
   "cell_type": "markdown",
   "id": "52e8bb74",
   "metadata": {},
   "source": [
    "#### 5. Scenario: A study is conducted to compare the performance of two different teaching methods. The test scores of the students in each group are as follows:\n",
    "   \n",
    "Group A: [85, 90, 92, 88, 91]\n",
    "\n",
    "Group B: [82, 88, 90, 86, 87]\n",
    "\n",
    "Perform a t-test to determine if there is a significant difference in the mean scores between the two groups.\n"
   ]
  },
  {
   "cell_type": "code",
   "execution_count": 6,
   "id": "11251370",
   "metadata": {},
   "outputs": [],
   "source": [
    "Group_A = [85, 90, 92, 88, 91]\n",
    "\n",
    "Group_B = [82, 88, 90, 86, 87]"
   ]
  },
  {
   "cell_type": "code",
   "execution_count": 7,
   "id": "44020a05",
   "metadata": {},
   "outputs": [
    {
     "name": "stdout",
     "output_type": "stream",
     "text": [
      "T-Statistic: 1.4312528946642733\n",
      "P-Value: 0.19023970239078333\n"
     ]
    }
   ],
   "source": [
    "from scipy import stats\n",
    "\n",
    "t_statistic, p_value = stats.ttest_ind(Group_A, Group_B)\n",
    "\n",
    "print(\"T-Statistic:\", t_statistic)\n",
    "print(\"P-Value:\", p_value)\n"
   ]
  },
  {
   "cell_type": "markdown",
   "id": "71af2269",
   "metadata": {},
   "source": [
    "#### 6. Scenario: A company wants to analyze the relationship between advertising expenditure and sales. The data collected is as follows:\n",
    "   \n",
    "Advertising Expenditure (in thousands): [10, 15, 12, 8, 14]\n",
    "\n",
    "Sales (in thousands): [25, 30, 28, 20, 26]\n",
    "   \n",
    "Calculate the correlation coefficient between advertising expenditure and sales.\n"
   ]
  },
  {
   "cell_type": "code",
   "execution_count": 8,
   "id": "8bbf745b",
   "metadata": {},
   "outputs": [
    {
     "name": "stdout",
     "output_type": "stream",
     "text": [
      "Correlation Coefficient: 0.8757511375750132\n"
     ]
    }
   ],
   "source": [
    "advertising = [10, 15, 12, 8, 14]\n",
    "\n",
    "sales = [25, 30, 28, 20, 26]\n",
    "\n",
    "correlation_matrix = np.corrcoef(advertising, sales)\n",
    "correlation_coefficient = correlation_matrix[0, 1]\n",
    "\n",
    "print(\"Correlation Coefficient:\", correlation_coefficient)\n"
   ]
  },
  {
   "cell_type": "markdown",
   "id": "a2a5377f",
   "metadata": {},
   "source": [
    "#### 7. Scenario: A survey is conducted to measure the heights of a group of people. The data collected is as follows:\n",
    "   \n",
    "[160, 170, 165, 155, 175, 180, 170]\n",
    "   \n",
    "Calculate the standard deviation of the heights.\n"
   ]
  },
  {
   "cell_type": "code",
   "execution_count": 9,
   "id": "003e681a",
   "metadata": {},
   "outputs": [
    {
     "name": "stdout",
     "output_type": "stream",
     "text": [
      "Standard deviation of height 8.591246929842246\n"
     ]
    }
   ],
   "source": [
    "data = [160, 170, 165, 155, 175, 180, 170]\n",
    "\n",
    "std_dev = st.stdev(data)\n",
    "\n",
    "print(f\"Standard deviation of height {std_dev}\")"
   ]
  },
  {
   "cell_type": "markdown",
   "id": "ab0fbfac",
   "metadata": {},
   "source": [
    "#### 8. Scenario: A company wants to analyze the relationship between employee tenure and job satisfaction. The data collected is as follows:\n",
    "   \n",
    "Employee Tenure (in years): [2, 3, 5, 4, 6, 2, 4]\n",
    "\n",
    "Job Satisfaction (on a scale of 1 to 10): [7, 8, 6, 9, 5, 7, 6]\n",
    "\n",
    "Perform a linear regression analysis to predict job satisfaction based on employee tenure.\n"
   ]
  },
  {
   "cell_type": "code",
   "execution_count": 10,
   "id": "dce75eea",
   "metadata": {},
   "outputs": [],
   "source": [
    "Employee_Tenure = [2, 3, 5, 4, 6, 2, 4]\n",
    "\n",
    "Job_Satisfaction = [7, 8, 6, 9, 5, 7, 6]"
   ]
  },
  {
   "cell_type": "code",
   "execution_count": 11,
   "id": "2061b324",
   "metadata": {},
   "outputs": [
    {
     "name": "stdout",
     "output_type": "stream",
     "text": [
      "Intercept: 8.595744680851062\n",
      "Slope: -0.4680851063829787\n",
      "Predicted Job Satisfaction:[7.19148936 6.72340426]\n"
     ]
    }
   ],
   "source": [
    "tenure = np.array(Employee_Tenure)\n",
    "satisfaction = np.array(Job_Satisfaction)\n",
    "\n",
    "slope, intercept, r_value, p_value, std_err = stats.linregress(tenure, satisfaction)\n",
    "\n",
    "print(\"Intercept:\", intercept)\n",
    "print(\"Slope:\", slope)\n",
    "\n",
    "new_tenure = np.array([3, 4])\n",
    "predictions = slope * new_tenure + intercept\n",
    "print(f\"Predicted Job Satisfaction:{predictions}\")\n"
   ]
  },
  {
   "cell_type": "markdown",
   "id": "9ca07679",
   "metadata": {},
   "source": [
    "#### 9. Scenario: A study is conducted to compare the effectiveness of two different medications. The recovery times of the patients in each group are as follows:\n",
    "   \n",
    "Medication A: [10, 12, 14, 11, 13]\n",
    "\n",
    "Medication B: [15, 17, 16, 14, 18]\n",
    "\n",
    "Perform an analysis of variance (ANOVA) to determine if there is a significant difference in the mean recovery times between the two medications.\n"
   ]
  },
  {
   "cell_type": "code",
   "execution_count": 12,
   "id": "daad00b7",
   "metadata": {},
   "outputs": [
    {
     "name": "stdout",
     "output_type": "stream",
     "text": [
      "F-Statistic:16.0\n",
      "P-Value:0.003949772803445326\n"
     ]
    }
   ],
   "source": [
    "from scipy import stats\n",
    "\n",
    "Medication_A = [10, 12, 14, 11, 13]\n",
    "\n",
    "Medication_B = [15, 17, 16, 14, 18]\n",
    "\n",
    "f_statistic, p_value = stats.f_oneway(Medication_A, Medication_B)\n",
    "\n",
    "print(f\"F-Statistic:{f_statistic}\")\n",
    "print(f\"P-Value:{p_value}\")\n"
   ]
  },
  {
   "cell_type": "markdown",
   "id": "5b1b16e3",
   "metadata": {},
   "source": [
    "#### 10. Scenario: A company wants to analyze customer feedback ratings on a scale of 1 to 10. The data collected is as follows:\n",
    "[8, 9, 7, 6, 8, 10, 9, 8, 7, 8]\n",
    "\n",
    "Calculate the 75th percentile of the feedback ratings.\n"
   ]
  },
  {
   "cell_type": "code",
   "execution_count": 13,
   "id": "36e7c52f",
   "metadata": {},
   "outputs": [
    {
     "name": "stdout",
     "output_type": "stream",
     "text": [
      "75th Percentile: 8.75\n"
     ]
    }
   ],
   "source": [
    "import numpy as np\n",
    "\n",
    "ratings = [8, 9, 7, 6, 8, 10, 9, 8, 7, 8]\n",
    "\n",
    "percentile_75 = np.percentile(ratings, 75)\n",
    "\n",
    "print(f\"75th Percentile: {percentile_75}\")\n"
   ]
  },
  {
   "cell_type": "markdown",
   "id": "683aa8be",
   "metadata": {},
   "source": [
    "#### 11. Scenario: A quality control department wants to test the weight consistency of a product. The weights of a sample of products are as follows:\n",
    "[10.2, 9.8, 10.0, 10.5, 10.3, 10.1]\n",
    "\n",
    "Perform a hypothesis test to determine if the mean weight differs significantly from 10 grams.\n"
   ]
  },
  {
   "cell_type": "code",
   "execution_count": 14,
   "id": "929d3954",
   "metadata": {},
   "outputs": [
    {
     "name": "stdout",
     "output_type": "stream",
     "text": [
      "T-Statistic: 1.5126584522688367\n",
      "P-Value: 0.19077595151110102\n"
     ]
    }
   ],
   "source": [
    "from scipy import stats\n",
    "\n",
    "weights = [10.2, 9.8, 10.0, 10.5, 10.3, 10.1]\n",
    "\n",
    "t_statistic, p_value = stats.ttest_1samp(weights, 10)\n",
    "\n",
    "print(\"T-Statistic:\", t_statistic)\n",
    "print(\"P-Value:\", p_value)\n"
   ]
  },
  {
   "cell_type": "markdown",
   "id": "eed49f93",
   "metadata": {},
   "source": [
    "#### 12. Scenario: A company wants to analyze the click-through rates of two different website designs. The number of clicks for each design is as follows:\n",
    "Design A: [100, 120, 110, 90, 95]\n",
    "    \n",
    "Design B: [80, 85, 90, 95, 100]\n",
    "\n",
    "Perform a chi-square test to determine if there is a significant difference in the click-through rates between the two designs.\n"
   ]
  },
  {
   "cell_type": "code",
   "execution_count": 15,
   "id": "f79f35f9",
   "metadata": {},
   "outputs": [
    {
     "name": "stdout",
     "output_type": "stream",
     "text": [
      "Chi-square Statistic: [2.22222222 5.97560976 2.         0.13513514 0.12820513]\n",
      "P-Value: [0.13603713 0.01450507 0.15729921 0.71316606 0.72030033]\n"
     ]
    }
   ],
   "source": [
    "from scipy import stats\n",
    "\n",
    "design_a = [100, 120, 110, 90, 95]\n",
    "design_b = [80, 85, 90, 95, 100]\n",
    "\n",
    "chi2_statistic, p_value = stats.chisquare(f_obs=[design_a, design_b])\n",
    "\n",
    "print(\"Chi-square Statistic:\", chi2_statistic)\n",
    "print(\"P-Value:\", p_value)\n"
   ]
  },
  {
   "cell_type": "markdown",
   "id": "8eb1d6f5",
   "metadata": {},
   "source": [
    "#### 13. Scenario: A survey is conducted to measure customer satisfaction with a product on a scale of 1 to 10. The data collected is as follows:\n",
    "[7, 9, 6, 8, 10, 7, 8, 9, 7, 8]\n",
    "\n",
    "Calculate the 95% confidence interval for the population mean satisfaction score.\n"
   ]
  },
  {
   "cell_type": "code",
   "execution_count": 16,
   "id": "949328bc",
   "metadata": {},
   "outputs": [
    {
     "name": "stdout",
     "output_type": "stream",
     "text": [
      "95% Confidence Interval: (7.043561120599888, 8.756438879400113)\n"
     ]
    }
   ],
   "source": [
    "import numpy as np\n",
    "from scipy import stats\n",
    "\n",
    "data = [7, 9, 6, 8, 10, 7, 8, 9, 7, 8]\n",
    "\n",
    "sample_mean = np.mean(data)\n",
    "standard_error = stats.sem(data)\n",
    "\n",
    "confidence_interval = stats.t.interval(0.95, len(data) - 1, loc=sample_mean, scale=standard_error)\n",
    "\n",
    "print(\"95% Confidence Interval:\", confidence_interval)"
   ]
  },
  {
   "cell_type": "markdown",
   "id": "b0a90bdf",
   "metadata": {},
   "source": [
    "#### 14. Scenario: A company wants to analyze the effect of temperature on product performance. The data collected is as follows:\n",
    "Temperature (in degrees Celsius): [20, 22, 23, 19, 21]\n",
    "    \n",
    "Performance (on a scale of 1 to 10): [8, 7, 9, 6, 8]\n",
    "        \n",
    "Perform a simple linear regression to predict performance based on temperature.\n"
   ]
  },
  {
   "cell_type": "code",
   "execution_count": 17,
   "id": "ab7d249e",
   "metadata": {},
   "outputs": [
    {
     "name": "stdout",
     "output_type": "stream",
     "text": [
      "Intercept: -2.9000000000000004\n",
      "Slope: 0.5\n",
      "Predicted Job Satisfaction:[7.1]\n"
     ]
    }
   ],
   "source": [
    "temp = np.array([20, 22, 23, 19, 21])\n",
    "performance = np.array([8, 7, 9, 6, 8])\n",
    "\n",
    "slope, intercept, r_value, p_value, std_err = stats.linregress(temp, performance)\n",
    "\n",
    "print(\"Intercept:\", intercept)\n",
    "print(\"Slope:\", slope)\n",
    "\n",
    "temp_new = np.array([20])\n",
    "predictions = slope * temp_new + intercept\n",
    "print(f\"Predicted Job Satisfaction:{predictions}\")"
   ]
  },
  {
   "cell_type": "markdown",
   "id": "9cec911d",
   "metadata": {},
   "source": [
    "#### 15. Scenario: A study is conducted to compare the preferences of two groups of participants. The preferences are measured on a Likert scale from 1 to 5. The data collected is as follows:\n",
    "Group A: [4, 3, 5, 2, 4]\n",
    "    \n",
    "Group B: [3, 2, 4, 3, 3]\n",
    "    \n",
    "Perform a Mann-Whitney U test to determine if there is a significant difference in the median preferences between the two groups.\n"
   ]
  },
  {
   "cell_type": "code",
   "execution_count": 18,
   "id": "b4dd44eb",
   "metadata": {},
   "outputs": [
    {
     "name": "stdout",
     "output_type": "stream",
     "text": [
      "Mann-Whitney U statistic: 17.0\n",
      "P-value: 0.380836480306712\n"
     ]
    }
   ],
   "source": [
    "import numpy as np\n",
    "from scipy.stats import mannwhitneyu\n",
    "\n",
    "group_a = [4, 3, 5, 2, 4]\n",
    "group_b = [3, 2, 4, 3, 3]\n",
    "\n",
    "statistic, p_value = mannwhitneyu(group_a, group_b)\n",
    "\n",
    "print(\"Mann-Whitney U statistic:\", statistic)\n",
    "print(\"P-value:\", p_value)\n"
   ]
  },
  {
   "cell_type": "markdown",
   "id": "9b9f4f4d",
   "metadata": {},
   "source": [
    "#### 16. Scenario: A company wants to analyze the distribution of customer ages. The data collected is as follows:\n",
    "[25, 30, 35, 40, 45, 50, 55, 60, 65, 70]\n",
    "\n",
    "Calculate the interquartile range (IQR) of the ages.\n",
    "\n"
   ]
  },
  {
   "cell_type": "code",
   "execution_count": 19,
   "id": "2673c0c1",
   "metadata": {},
   "outputs": [
    {
     "name": "stdout",
     "output_type": "stream",
     "text": [
      "Interquartile Range (IQR): 22.5\n"
     ]
    }
   ],
   "source": [
    "import numpy as np\n",
    "\n",
    "data = [25, 30, 35, 40, 45, 50, 55, 60, 65, 70]\n",
    "\n",
    "q1 = np.percentile(data, 25)\n",
    "q3 = np.percentile(data, 75)\n",
    "iqr = q3 - q1\n",
    "\n",
    "print(\"Interquartile Range (IQR):\", iqr)\n"
   ]
  },
  {
   "cell_type": "markdown",
   "id": "d8e79a65",
   "metadata": {},
   "source": [
    "#### 17. Scenario: A study is conducted to compare the performance of three different machine learning algorithms. The accuracy scores for each algorithm are as follows:\n",
    "Algorithm A: [0.85, 0.80, 0.82, 0.87, 0.83]\n",
    "    \n",
    "Algorithm B: [0.78, 0.82, 0.84, 0.80, 0.79]\n",
    "    \n",
    "Algorithm C: [0.90, 0.88, 0.89, 0.86, 0.87]\n",
    "    \n",
    "Perform a Kruskal-Wallis test to determine if there is a significant difference in the median accuracy scores between the algorithms.\n"
   ]
  },
  {
   "cell_type": "code",
   "execution_count": 20,
   "id": "59ac626b",
   "metadata": {},
   "outputs": [
    {
     "name": "stdout",
     "output_type": "stream",
     "text": [
      "Kruskal-Wallis statistic: 9.696947935368053\n",
      "P-value: 0.007840333026249539\n"
     ]
    }
   ],
   "source": [
    "import numpy as np\n",
    "from scipy.stats import kruskal\n",
    "\n",
    "algorithm_a = [0.85, 0.80, 0.82, 0.87, 0.83]\n",
    "algorithm_b = [0.78, 0.82, 0.84, 0.80, 0.79]\n",
    "algorithm_c = [0.90, 0.88, 0.89, 0.86, 0.87]\n",
    "\n",
    "statistic, p_value = kruskal(algorithm_a, algorithm_b, algorithm_c)\n",
    "\n",
    "print(\"Kruskal-Wallis statistic:\", statistic)\n",
    "print(\"P-value:\", p_value)\n"
   ]
  },
  {
   "cell_type": "markdown",
   "id": "637f5e95",
   "metadata": {},
   "source": [
    "#### 18. Scenario: A company wants to analyze the effect of price on sales. The data collected is as follows:\n",
    "Price (in dollars): [10, 15, 12, 8, 14]\n",
    "    \n",
    "Sales: [100, 80, 90, 110, 95]\n",
    "    \n",
    "Perform a simple linear regression to predict sales based on price.\n"
   ]
  },
  {
   "cell_type": "code",
   "execution_count": 21,
   "id": "e807f71c",
   "metadata": {},
   "outputs": [
    {
     "name": "stdout",
     "output_type": "stream",
     "text": [
      "Intercept: 136.3719512195122\n",
      "Slope: -3.506097560975609\n",
      "Predicted Job Satisfaction:[97.80487805]\n"
     ]
    }
   ],
   "source": [
    "price = np.array([10, 15, 12, 8, 14])\n",
    "sales = np.array([100, 80, 90, 110, 95])\n",
    "\n",
    "slope, intercept, r_value, p_value, std_err = stats.linregress(price, sales)\n",
    "\n",
    "print(\"Intercept:\", intercept)\n",
    "print(\"Slope:\", slope)\n",
    "\n",
    "price_new = np.array([11])\n",
    "predictions = slope * price_new + intercept\n",
    "print(f\"Predicted Job Satisfaction:{predictions}\")"
   ]
  },
  {
   "cell_type": "markdown",
   "id": "3c07387e",
   "metadata": {},
   "source": [
    "#### 19. Scenario: A survey is conducted to measure the satisfaction levels of customers with a new product. The data collected is as follows:\n",
    "[7, 8, 9, 6, 8, 7, 9, 7, 8, 7]\n",
    "\n",
    "Calculate the standard error of the mean satisfaction score.\n"
   ]
  },
  {
   "cell_type": "code",
   "execution_count": 22,
   "id": "dae6152c",
   "metadata": {},
   "outputs": [
    {
     "name": "stdout",
     "output_type": "stream",
     "text": [
      "Standard Error of the Mean: 0.30550504633038933\n"
     ]
    }
   ],
   "source": [
    "import numpy as np\n",
    "from scipy.stats import sem\n",
    "\n",
    "data = [7, 8, 9, 6, 8, 7, 9, 7, 8, 7]\n",
    "\n",
    "standard_error = sem(data)\n",
    "\n",
    "print(\"Standard Error of the Mean:\", standard_error)\n"
   ]
  },
  {
   "cell_type": "markdown",
   "id": "961a91bf",
   "metadata": {},
   "source": [
    "#### 20. Scenario: A company wants to analyze the relationship between advertising expenditure and sales. The data collected is as follows:\n",
    "Advertising Expenditure (in thousands): [10, 15, 12, 8, 14]\n",
    "    \n",
    "Sales (in thousands): [25, 30, 28, 20, 26]\n",
    "    \n",
    "Perform a multiple regression analysis to predict sales based on advertising expenditure.\n",
    "\n"
   ]
  },
  {
   "cell_type": "code",
   "execution_count": 23,
   "id": "3e2227be",
   "metadata": {},
   "outputs": [
    {
     "name": "stdout",
     "output_type": "stream",
     "text": [
      "Intercept: 12.201219512195125\n",
      "Slope: 1.1524390243902436\n",
      "Predicted Job Satisfaction:[27.18292683]\n"
     ]
    }
   ],
   "source": [
    "advertising = np.array([10, 15, 12, 8, 14])\n",
    "sales = np.array([25, 30, 28, 20, 26])\n",
    "\n",
    "slope, intercept, r_value, p_value, std_err = stats.linregress(advertising, sales)\n",
    "\n",
    "print(\"Intercept:\", intercept)\n",
    "print(\"Slope:\", slope)\n",
    "\n",
    "adv_new = np.array([13])\n",
    "predictions = slope * adv_new + intercept\n",
    "print(f\"Predicted Job Satisfaction:{predictions}\")"
   ]
  },
  {
   "cell_type": "code",
   "execution_count": null,
   "id": "99afccd2",
   "metadata": {},
   "outputs": [],
   "source": []
  }
 ],
 "metadata": {
  "kernelspec": {
   "display_name": "Python 3 (ipykernel)",
   "language": "python",
   "name": "python3"
  },
  "language_info": {
   "codemirror_mode": {
    "name": "ipython",
    "version": 3
   },
   "file_extension": ".py",
   "mimetype": "text/x-python",
   "name": "python",
   "nbconvert_exporter": "python",
   "pygments_lexer": "ipython3",
   "version": "3.10.9"
  }
 },
 "nbformat": 4,
 "nbformat_minor": 5
}
