{
 "cells": [
  {
   "cell_type": "markdown",
   "id": "61243d06",
   "metadata": {},
   "source": [
    "**1. Write a Python program to reverse a string without using any built-in string reversal functions.**"
   ]
  },
  {
   "cell_type": "code",
   "execution_count": 1,
   "id": "7b78ad64",
   "metadata": {},
   "outputs": [],
   "source": [
    "def reverseString(s:str)->str:\n",
    "    stack = []\n",
    "    for i in range(len(s)-1,-1,-1):\n",
    "        stack.append(s[i])\n",
    "    return \"\".join(stack)"
   ]
  },
  {
   "cell_type": "code",
   "execution_count": 2,
   "id": "86344253",
   "metadata": {},
   "outputs": [
    {
     "data": {
      "text/plain": [
       "'norueNi'"
      ]
     },
     "execution_count": 2,
     "metadata": {},
     "output_type": "execute_result"
    }
   ],
   "source": [
    "s = \"iNeuron\"\n",
    "reverseString(s)"
   ]
  },
  {
   "cell_type": "markdown",
   "id": "0d80e775",
   "metadata": {},
   "source": [
    "#### 2. Implement a function to check if a given string is a palindrome."
   ]
  },
  {
   "cell_type": "code",
   "execution_count": 3,
   "id": "2882e774",
   "metadata": {},
   "outputs": [],
   "source": [
    "def palindromeString(s:str)->bool:\n",
    "    if s == reverseString(s):\n",
    "        return True\n",
    "    else:\n",
    "        return False"
   ]
  },
  {
   "cell_type": "code",
   "execution_count": 4,
   "id": "c916ff4a",
   "metadata": {},
   "outputs": [
    {
     "data": {
      "text/plain": [
       "False"
      ]
     },
     "execution_count": 4,
     "metadata": {},
     "output_type": "execute_result"
    }
   ],
   "source": [
    "s = \"iNeuron\"\n",
    "palindromeString(s)"
   ]
  },
  {
   "cell_type": "code",
   "execution_count": 5,
   "id": "58f94d8d",
   "metadata": {},
   "outputs": [
    {
     "data": {
      "text/plain": [
       "True"
      ]
     },
     "execution_count": 5,
     "metadata": {},
     "output_type": "execute_result"
    }
   ],
   "source": [
    "s = \"pop\"\n",
    "palindromeString(s)"
   ]
  },
  {
   "cell_type": "markdown",
   "id": "72060557",
   "metadata": {},
   "source": [
    "#### 3. Write a program to find the largest element in a given list."
   ]
  },
  {
   "cell_type": "code",
   "execution_count": 6,
   "id": "f2e6091e",
   "metadata": {},
   "outputs": [],
   "source": [
    "from typing import List\n",
    "\n",
    "def largestNum(arr: List[int]) -> int:\n",
    "    stack = []\n",
    "    for num in arr:\n",
    "        while stack and stack[-1] < num:\n",
    "            stack.pop()\n",
    "        stack.append(num)\n",
    "    return stack[-1]\n"
   ]
  },
  {
   "cell_type": "code",
   "execution_count": 7,
   "id": "6c690aee",
   "metadata": {},
   "outputs": [
    {
     "data": {
      "text/plain": [
       "10"
      ]
     },
     "execution_count": 7,
     "metadata": {},
     "output_type": "execute_result"
    }
   ],
   "source": [
    "arr = [-1,5,0,5,10,-2,10]\n",
    "largestNum(arr)"
   ]
  },
  {
   "cell_type": "code",
   "execution_count": 8,
   "id": "3a6079e3",
   "metadata": {},
   "outputs": [],
   "source": [
    "class Largest:\n",
    "    def __init__(self):\n",
    "        self.max = 0\n",
    "        \n",
    "def largetsNum(arr:int)->int:\n",
    "    largest = Largest()\n",
    "    \n",
    "    if len(arr)==1:\n",
    "        largest.max = arr[0]\n",
    "        return largest\n",
    "    if arr[0] > arr[1]:\n",
    "        largest.max = arr[0]\n",
    "    else:\n",
    "        largest.max = arr[1]\n",
    "        \n",
    "    for i in range(2,len(arr)):\n",
    "        if arr[i]>largest.max:\n",
    "            largest.max = arr[i]\n",
    "    return largest"
   ]
  },
  {
   "cell_type": "code",
   "execution_count": 9,
   "id": "4138af33",
   "metadata": {},
   "outputs": [
    {
     "data": {
      "text/plain": [
       "10"
      ]
     },
     "execution_count": 9,
     "metadata": {},
     "output_type": "execute_result"
    }
   ],
   "source": [
    "arr = [-1,5,0,5,10,-2,10]\n",
    "largestNum(arr)"
   ]
  },
  {
   "cell_type": "markdown",
   "id": "84e68e24",
   "metadata": {},
   "source": [
    "#### 4. Implement a function to count the occurrence of each element in a list."
   ]
  },
  {
   "cell_type": "code",
   "execution_count": 10,
   "id": "e564d281",
   "metadata": {},
   "outputs": [],
   "source": [
    "from typing import List\n",
    "\n",
    "def countElement(arr: List)->dict:\n",
    "    counts = {}\n",
    "    for element in arr:\n",
    "        if element in counts:\n",
    "            counts[element]+=1\n",
    "        else:\n",
    "            counts[element]=1\n",
    "    return counts       "
   ]
  },
  {
   "cell_type": "code",
   "execution_count": 11,
   "id": "84d298df",
   "metadata": {},
   "outputs": [
    {
     "data": {
      "text/plain": [
       "{'a': 2, 'b': 1, 1: 3, 5: 2, 2.5: 1, False: 1}"
      ]
     },
     "execution_count": 11,
     "metadata": {},
     "output_type": "execute_result"
    }
   ],
   "source": [
    "arr = [\"a\",\"b\",\"a\",1,5,5,2.5,True,False,True]\n",
    "countElement(arr)"
   ]
  },
  {
   "cell_type": "code",
   "execution_count": 12,
   "id": "94fe102d",
   "metadata": {},
   "outputs": [],
   "source": [
    "from typing import List\n",
    "\n",
    "def countElement(arr: List) -> dict:\n",
    "    counts = {}\n",
    "    for element in arr:\n",
    "        counts[element] = counts.get(element, 0) + 1\n",
    "    return counts"
   ]
  },
  {
   "cell_type": "code",
   "execution_count": 13,
   "id": "e5a871dc",
   "metadata": {},
   "outputs": [
    {
     "data": {
      "text/plain": [
       "{'a': 2, 'b': 1, 1: 3, 5: 2, 2.5: 1, False: 1}"
      ]
     },
     "execution_count": 13,
     "metadata": {},
     "output_type": "execute_result"
    }
   ],
   "source": [
    "arr = [\"a\",\"b\",\"a\",1,5,5,2.5,True,False,True]\n",
    "countElement(arr)"
   ]
  },
  {
   "cell_type": "markdown",
   "id": "99931663",
   "metadata": {},
   "source": [
    "#### 5. Write a Python program to find the second largest number in a list."
   ]
  },
  {
   "cell_type": "code",
   "execution_count": 14,
   "id": "2b92e70a",
   "metadata": {},
   "outputs": [],
   "source": [
    "from typing import List\n",
    "\n",
    "def secondLargestNum(arr: List[int])->int:\n",
    "    arr.sort()\n",
    "    return arr[-2]"
   ]
  },
  {
   "cell_type": "code",
   "execution_count": 15,
   "id": "2f4a05eb",
   "metadata": {},
   "outputs": [
    {
     "data": {
      "text/plain": [
       "5"
      ]
     },
     "execution_count": 15,
     "metadata": {},
     "output_type": "execute_result"
    }
   ],
   "source": [
    "arr = [1,5,6,-5]\n",
    "secondLargestNum(arr)"
   ]
  },
  {
   "cell_type": "code",
   "execution_count": 16,
   "id": "686356c6",
   "metadata": {},
   "outputs": [],
   "source": [
    "from typing import List\n",
    "\n",
    "def secondLargestNum(arr: List[int]) -> int:\n",
    "    largest = float('-inf')\n",
    "    second_largest = float('-inf')\n",
    "    for num in arr:\n",
    "        if num > largest:\n",
    "            second_largest = largest\n",
    "            largest = num\n",
    "        elif num > second_largest and num != largest:\n",
    "            second_largest = num\n",
    "    return second_largest"
   ]
  },
  {
   "cell_type": "code",
   "execution_count": 17,
   "id": "27962f8b",
   "metadata": {},
   "outputs": [
    {
     "data": {
      "text/plain": [
       "5"
      ]
     },
     "execution_count": 17,
     "metadata": {},
     "output_type": "execute_result"
    }
   ],
   "source": [
    "arr = [1,5,6,-5]\n",
    "secondLargestNum(arr)"
   ]
  },
  {
   "cell_type": "markdown",
   "id": "95ba2911",
   "metadata": {},
   "source": [
    "#### 6. Implement a function to remove duplicate elements from a list."
   ]
  },
  {
   "cell_type": "code",
   "execution_count": 18,
   "id": "999ebb11",
   "metadata": {},
   "outputs": [],
   "source": [
    "from typing import List\n",
    "\n",
    "def removeDuplicates(arr:List)->List:\n",
    "    stack = []\n",
    "    for element in arr:\n",
    "        while stack and stack[-1]==element:\n",
    "            stack.pop()\n",
    "        stack.append(element)\n",
    "    return stack"
   ]
  },
  {
   "cell_type": "code",
   "execution_count": 19,
   "id": "21991bf6",
   "metadata": {},
   "outputs": [
    {
     "data": {
      "text/plain": [
       "['a', 1, 2, 3, 'b']"
      ]
     },
     "execution_count": 19,
     "metadata": {},
     "output_type": "execute_result"
    }
   ],
   "source": [
    "arr = [\"a\",\"a\",1,2,2,3,\"b\",]\n",
    "removeDuplicates(arr)"
   ]
  },
  {
   "cell_type": "code",
   "execution_count": 20,
   "id": "47e99edb",
   "metadata": {},
   "outputs": [],
   "source": [
    "from typing import List\n",
    "\n",
    "def removeDuplicates(arr:List)->List:\n",
    "    l = []\n",
    "    for element in arr:\n",
    "        if element not in l:\n",
    "            l.append(element)\n",
    "    return l"
   ]
  },
  {
   "cell_type": "code",
   "execution_count": 21,
   "id": "9e8f16c6",
   "metadata": {},
   "outputs": [
    {
     "data": {
      "text/plain": [
       "['a', 1, 2, 3, 'b', 'c']"
      ]
     },
     "execution_count": 21,
     "metadata": {},
     "output_type": "execute_result"
    }
   ],
   "source": [
    "arr = [\"a\",\"a\",1,2,2,3,\"b\",\"c\"]\n",
    "removeDuplicates(arr)"
   ]
  },
  {
   "cell_type": "markdown",
   "id": "788b06e2",
   "metadata": {},
   "source": [
    "#### 7. Write a program to calculate the factorial of a given number."
   ]
  },
  {
   "cell_type": "code",
   "execution_count": 22,
   "id": "d20e964a",
   "metadata": {},
   "outputs": [],
   "source": [
    "def factorialNum(num:int)->int:\n",
    "    fact = 1\n",
    "    for i in range(1,num+1):\n",
    "        fact = fact*i\n",
    "    return fact"
   ]
  },
  {
   "cell_type": "code",
   "execution_count": 23,
   "id": "192996ce",
   "metadata": {},
   "outputs": [
    {
     "data": {
      "text/plain": [
       "1"
      ]
     },
     "execution_count": 23,
     "metadata": {},
     "output_type": "execute_result"
    }
   ],
   "source": [
    "num = 0\n",
    "factorialNum(num)"
   ]
  },
  {
   "cell_type": "markdown",
   "id": "03ba3a2f",
   "metadata": {},
   "source": [
    "#### 8. Implement a function to check if a given number is prime."
   ]
  },
  {
   "cell_type": "code",
   "execution_count": 24,
   "id": "ea3b5af0",
   "metadata": {},
   "outputs": [],
   "source": [
    "def isPrime(num:int)->bool:\n",
    "    if num < 2:\n",
    "        return False\n",
    "    for i in range(2,num):\n",
    "        if num % i == 0:\n",
    "            return False\n",
    "    return True"
   ]
  },
  {
   "cell_type": "code",
   "execution_count": 25,
   "id": "25433641",
   "metadata": {},
   "outputs": [
    {
     "data": {
      "text/plain": [
       "True"
      ]
     },
     "execution_count": 25,
     "metadata": {},
     "output_type": "execute_result"
    }
   ],
   "source": [
    "num=19\n",
    "isPrime(num)"
   ]
  },
  {
   "cell_type": "code",
   "execution_count": 26,
   "id": "4eb373a3",
   "metadata": {},
   "outputs": [
    {
     "data": {
      "text/plain": [
       "True"
      ]
     },
     "execution_count": 26,
     "metadata": {},
     "output_type": "execute_result"
    }
   ],
   "source": [
    "num=2\n",
    "isPrime(num)"
   ]
  },
  {
   "cell_type": "code",
   "execution_count": 27,
   "id": "74813704",
   "metadata": {},
   "outputs": [
    {
     "data": {
      "text/plain": [
       "False"
      ]
     },
     "execution_count": 27,
     "metadata": {},
     "output_type": "execute_result"
    }
   ],
   "source": [
    "num=9\n",
    "isPrime(num)"
   ]
  },
  {
   "cell_type": "markdown",
   "id": "3c8c4188",
   "metadata": {},
   "source": [
    "#### 9. Write a Python program to sort a list of integers in ascending order."
   ]
  },
  {
   "cell_type": "code",
   "execution_count": 28,
   "id": "cf72c5f4",
   "metadata": {},
   "outputs": [],
   "source": [
    "from typing import List\n",
    "def bubbleSort(arr:List[int])->List[int]:  \n",
    "    for i in range(len(arr)-1):\n",
    "        for j in range(len(arr)-1-i):\n",
    "            if arr[j] > arr[j+1]:\n",
    "                arr[j], arr[j+1] = arr[j+1], arr[j]\n",
    "    \n",
    "    return arr"
   ]
  },
  {
   "cell_type": "code",
   "execution_count": 29,
   "id": "9e8bf398",
   "metadata": {},
   "outputs": [
    {
     "data": {
      "text/plain": [
       "[1, 4, 5, 5, 7, 8]"
      ]
     },
     "execution_count": 29,
     "metadata": {},
     "output_type": "execute_result"
    }
   ],
   "source": [
    "arr = [1,5,8,7,4,5]\n",
    "bubbleSort(arr)"
   ]
  },
  {
   "cell_type": "markdown",
   "id": "0c8594dc",
   "metadata": {},
   "source": [
    "#### 10. Implement a function to find the sum of all numbers in a list."
   ]
  },
  {
   "cell_type": "code",
   "execution_count": 30,
   "id": "8e0ad9b3",
   "metadata": {},
   "outputs": [],
   "source": [
    "from typing import List\n",
    "\n",
    "def sumList(arr:List[int])->int:\n",
    "    sum_ = 0\n",
    "    for i in arr:\n",
    "        sum_ = sum_ + i \n",
    "    return sum_"
   ]
  },
  {
   "cell_type": "code",
   "execution_count": 31,
   "id": "155366db",
   "metadata": {},
   "outputs": [
    {
     "data": {
      "text/plain": [
       "13"
      ]
     },
     "execution_count": 31,
     "metadata": {},
     "output_type": "execute_result"
    }
   ],
   "source": [
    "arr = [1,5,2,5]\n",
    "sumList(arr)"
   ]
  },
  {
   "cell_type": "markdown",
   "id": "648da126",
   "metadata": {},
   "source": [
    "#### 11. Write a program to find the common elements between two lists."
   ]
  },
  {
   "cell_type": "code",
   "execution_count": 32,
   "id": "626ef171",
   "metadata": {},
   "outputs": [],
   "source": [
    "from typing import List\n",
    "\n",
    "def commomElement(arr1:List[int], arr2:List[int])->List[int]:\n",
    "    common_elements = []\n",
    "    for i in arr2:\n",
    "        if i in arr1:\n",
    "            common_elements.append(i)\n",
    "    return common_elements"
   ]
  },
  {
   "cell_type": "code",
   "execution_count": 33,
   "id": "8ced01ff",
   "metadata": {},
   "outputs": [
    {
     "data": {
      "text/plain": [
       "[1, 3, 5]"
      ]
     },
     "execution_count": 33,
     "metadata": {},
     "output_type": "execute_result"
    }
   ],
   "source": [
    "arr1 = [1,2,3,4,5]\n",
    "arr2 = [1,3,5]\n",
    "commomElement(arr1,arr2)"
   ]
  },
  {
   "cell_type": "code",
   "execution_count": 34,
   "id": "5792a2e4",
   "metadata": {},
   "outputs": [],
   "source": [
    "from typing import List\n",
    "\n",
    "def commomElement(arr1:List[int], arr2:List[int])->List[int]:\n",
    "    set1 = set(arr1)\n",
    "    set2 = set(arr2)\n",
    "    common_elements = list(set1.intersection(set2))\n",
    "    return common_elements"
   ]
  },
  {
   "cell_type": "code",
   "execution_count": 35,
   "id": "f3408029",
   "metadata": {},
   "outputs": [
    {
     "data": {
      "text/plain": [
       "[1, 3, 5]"
      ]
     },
     "execution_count": 35,
     "metadata": {},
     "output_type": "execute_result"
    }
   ],
   "source": [
    "arr1 = [1,2,3,4,5]\n",
    "arr2 = [1,3,5]\n",
    "commomElement(arr1,arr2)"
   ]
  },
  {
   "cell_type": "markdown",
   "id": "1c07cffd",
   "metadata": {},
   "source": [
    "#### 12. Implement a function to check if a given string is an anagram of another string."
   ]
  },
  {
   "cell_type": "code",
   "execution_count": 36,
   "id": "0c49a18f",
   "metadata": {},
   "outputs": [],
   "source": [
    "def countString(s:str)->int:\n",
    "    counts = {}\n",
    "    for i in s:\n",
    "        if i in counts:\n",
    "            counts[i] += 1\n",
    "        else:\n",
    "            counts[i] = 1\n",
    "    return counts\n",
    "\n",
    "def isAnagram(s1: str,s2: str)->bool:\n",
    "    if countString(s1)==countString(s2):\n",
    "        return True\n",
    "    else:\n",
    "        return False"
   ]
  },
  {
   "cell_type": "code",
   "execution_count": 37,
   "id": "7a1afe32",
   "metadata": {},
   "outputs": [
    {
     "data": {
      "text/plain": [
       "False"
      ]
     },
     "execution_count": 37,
     "metadata": {},
     "output_type": "execute_result"
    }
   ],
   "source": [
    "s1 = \"abcd\"\n",
    "s2 = \"acbdd\"\n",
    "isAnagram(s1,s2)"
   ]
  },
  {
   "cell_type": "code",
   "execution_count": 38,
   "id": "653cc399",
   "metadata": {},
   "outputs": [
    {
     "data": {
      "text/plain": [
       "True"
      ]
     },
     "execution_count": 38,
     "metadata": {},
     "output_type": "execute_result"
    }
   ],
   "source": [
    "s1 = \"abcd\"\n",
    "s2 = \"acbd\"\n",
    "isAnagram(s1,s2)"
   ]
  },
  {
   "cell_type": "markdown",
   "id": "9bd8637f",
   "metadata": {},
   "source": [
    "#### 13. Write a Python program to generate all permutations of a given string."
   ]
  },
  {
   "cell_type": "code",
   "execution_count": 39,
   "id": "2ca0d7fd",
   "metadata": {},
   "outputs": [],
   "source": [
    "def permutations(s:str)->str:\n",
    "    if len(s) == 1:\n",
    "        return [s]    \n",
    "    # Recursive case:\n",
    "    perms = [] \n",
    "    for i in range(len(s)):\n",
    "        fixed_char = s[i]\n",
    "        remaining_chars = s[:i] + s[i+1:]\n",
    "        sub_perms = permutations(remaining_chars)\n",
    "        for perm in sub_perms:\n",
    "            perms.append(fixed_char + perm)\n",
    "    \n",
    "    return perms"
   ]
  },
  {
   "cell_type": "code",
   "execution_count": 40,
   "id": "a032d703",
   "metadata": {},
   "outputs": [
    {
     "name": "stdout",
     "output_type": "stream",
     "text": [
      "abc\n",
      "acb\n",
      "bac\n",
      "bca\n",
      "cab\n",
      "cba\n"
     ]
    }
   ],
   "source": [
    "s = \"abc\"\n",
    "all_perms = permutations(s)\n",
    "for perm in all_perms:\n",
    "    print(perm)"
   ]
  },
  {
   "cell_type": "markdown",
   "id": "ef66e20b",
   "metadata": {},
   "source": [
    "#### 14. Implement a function to calculate the Fibonacci sequence up to a given number of terms."
   ]
  },
  {
   "cell_type": "code",
   "execution_count": 41,
   "id": "eb500a76",
   "metadata": {},
   "outputs": [],
   "source": [
    "def fibonacci(n: int):\n",
    "    fib = []\n",
    "    a, b = 0, 1\n",
    "    for _ in range(n):\n",
    "        fib.append(a)\n",
    "        a, b = b, a + b\n",
    "    return fib"
   ]
  },
  {
   "cell_type": "code",
   "execution_count": 42,
   "id": "b162b032",
   "metadata": {},
   "outputs": [
    {
     "data": {
      "text/plain": [
       "[0, 1, 1, 2]"
      ]
     },
     "execution_count": 42,
     "metadata": {},
     "output_type": "execute_result"
    }
   ],
   "source": [
    "fibonacci(4)"
   ]
  },
  {
   "cell_type": "markdown",
   "id": "8b8f9c4d",
   "metadata": {},
   "source": [
    "#### 15. Write a program to find the median of a list of numbers."
   ]
  },
  {
   "cell_type": "code",
   "execution_count": 43,
   "id": "a7f3c342",
   "metadata": {},
   "outputs": [],
   "source": [
    "from typing import List\n",
    "\n",
    "def findMedian(arr:List[int])->int:\n",
    "    arr.sort()\n",
    "    if len(arr) % 2 == 0:\n",
    "        mid = len(arr) // 2\n",
    "        median = (arr[mid-1] + arr[mid]) / 2\n",
    "        \n",
    "    else:\n",
    "        mid = len(arr) // 2\n",
    "        median = arr[mid]\n",
    "        \n",
    "    return median     "
   ]
  },
  {
   "cell_type": "code",
   "execution_count": 44,
   "id": "f062b535",
   "metadata": {},
   "outputs": [
    {
     "data": {
      "text/plain": [
       "3"
      ]
     },
     "execution_count": 44,
     "metadata": {},
     "output_type": "execute_result"
    }
   ],
   "source": [
    "arr = [1,5,3,2,4]\n",
    "findMedian(arr)"
   ]
  },
  {
   "cell_type": "code",
   "execution_count": 45,
   "id": "41763ede",
   "metadata": {},
   "outputs": [
    {
     "data": {
      "text/plain": [
       "2.5"
      ]
     },
     "execution_count": 45,
     "metadata": {},
     "output_type": "execute_result"
    }
   ],
   "source": [
    "arr = [1,5,3,2]\n",
    "findMedian(arr)"
   ]
  },
  {
   "cell_type": "markdown",
   "id": "1e56667c",
   "metadata": {},
   "source": [
    "#### 16. Implement a function to check if a given list is sorted in non-decreasing order."
   ]
  },
  {
   "cell_type": "code",
   "execution_count": 46,
   "id": "b6d68f13",
   "metadata": {},
   "outputs": [],
   "source": [
    "from typing import List\n",
    "\n",
    "def isSorted(arr:List[int])->bool:\n",
    "    for i in range(len(arr)-1):\n",
    "        if arr[i] > arr[i+1]:\n",
    "            return False\n",
    "        else:\n",
    "            return True"
   ]
  },
  {
   "cell_type": "code",
   "execution_count": 47,
   "id": "7d79f579",
   "metadata": {},
   "outputs": [
    {
     "data": {
      "text/plain": [
       "True"
      ]
     },
     "execution_count": 47,
     "metadata": {},
     "output_type": "execute_result"
    }
   ],
   "source": [
    "arr = [1,2,3]\n",
    "isSorted(arr)"
   ]
  },
  {
   "cell_type": "code",
   "execution_count": 48,
   "id": "ea03027a",
   "metadata": {},
   "outputs": [
    {
     "data": {
      "text/plain": [
       "False"
      ]
     },
     "execution_count": 48,
     "metadata": {},
     "output_type": "execute_result"
    }
   ],
   "source": [
    "arr = [1,-1,2]\n",
    "isSorted(arr)\n"
   ]
  },
  {
   "cell_type": "markdown",
   "id": "d6443bf7",
   "metadata": {},
   "source": [
    "#### 18. Implement a function to find the maximum subarray sum in a given list."
   ]
  },
  {
   "cell_type": "code",
   "execution_count": 49,
   "id": "2b3987a9",
   "metadata": {},
   "outputs": [],
   "source": [
    "from typing import List\n",
    "\n",
    "def max_subarray_sum(arr: List[int]) -> int:\n",
    "    if not arr:\n",
    "        return 0\n",
    "\n",
    "    current_sum = max_sum = arr[0]\n",
    "    for num in arr[1:]:\n",
    "        current_sum = max(num, current_sum + num)\n",
    "        max_sum = max(max_sum, current_sum)\n",
    "    \n",
    "    return max_sum"
   ]
  },
  {
   "cell_type": "code",
   "execution_count": 50,
   "id": "43f8496e",
   "metadata": {},
   "outputs": [
    {
     "data": {
      "text/plain": [
       "6"
      ]
     },
     "execution_count": 50,
     "metadata": {},
     "output_type": "execute_result"
    }
   ],
   "source": [
    "arr = [-1,2,4,-2]\n",
    "max_subarray_sum(arr)"
   ]
  },
  {
   "cell_type": "markdown",
   "id": "383370be",
   "metadata": {},
   "source": [
    "#### 19. Write a program to remove all vowels from a given string."
   ]
  },
  {
   "cell_type": "code",
   "execution_count": 51,
   "id": "80bfc0ed",
   "metadata": {},
   "outputs": [],
   "source": [
    "def vowelsRemove(s:str)->str:\n",
    "    lst = []\n",
    "    vowels =\"aeiouAEIOU\"\n",
    "    for char in s:\n",
    "        if char not in vowels:\n",
    "            lst.append(char)\n",
    "    return \"\".join(lst)    "
   ]
  },
  {
   "cell_type": "code",
   "execution_count": 52,
   "id": "91043668",
   "metadata": {},
   "outputs": [
    {
     "data": {
      "text/plain": [
       "'Hll'"
      ]
     },
     "execution_count": 52,
     "metadata": {},
     "output_type": "execute_result"
    }
   ],
   "source": [
    "s = \"HelloO\"\n",
    "vowelsRemove(s)"
   ]
  },
  {
   "cell_type": "markdown",
   "id": "b16134e1",
   "metadata": {},
   "source": [
    "#### 20. Implement a function to reverse the order of words in a given sentence."
   ]
  },
  {
   "cell_type": "code",
   "execution_count": 53,
   "id": "6e07d48f",
   "metadata": {},
   "outputs": [],
   "source": [
    "def reverseSentence(s:str)->str:\n",
    "    lst = []\n",
    "    words = s.split(\" \")\n",
    "    for word in range(len(words)-1,-1,-1):\n",
    "        lst.append(words[word])\n",
    "    return \" \".join(lst)"
   ]
  },
  {
   "cell_type": "code",
   "execution_count": 54,
   "id": "07697973",
   "metadata": {},
   "outputs": [
    {
     "data": {
      "text/plain": [
       "'you are how'"
      ]
     },
     "execution_count": 54,
     "metadata": {},
     "output_type": "execute_result"
    }
   ],
   "source": [
    "s = \"how are you\"\n",
    "reverseSentence(s)"
   ]
  },
  {
   "cell_type": "markdown",
   "id": "571d269d",
   "metadata": {},
   "source": [
    "#### 21. Write a Python program to check if two strings are anagrams of each other."
   ]
  },
  {
   "cell_type": "code",
   "execution_count": 55,
   "id": "72d0742f",
   "metadata": {},
   "outputs": [],
   "source": [
    "def countStr(s:str)->int:\n",
    "    counts = {}\n",
    "    for i in s:\n",
    "        if i in counts:\n",
    "            counts[i]+=1\n",
    "        else:\n",
    "            counts[i]=1\n",
    "    return counts\n",
    "        \n",
    "\n",
    "def strAnagram(s1:str,s2:str)->bool:\n",
    "    if countStr(s1)==countStr(s2):\n",
    "        return True\n",
    "    else:\n",
    "        return False"
   ]
  },
  {
   "cell_type": "code",
   "execution_count": 56,
   "id": "d3417e57",
   "metadata": {},
   "outputs": [
    {
     "data": {
      "text/plain": [
       "False"
      ]
     },
     "execution_count": 56,
     "metadata": {},
     "output_type": "execute_result"
    }
   ],
   "source": [
    "s1 = 'abcd'\n",
    "s2 = 'abd'\n",
    "strAnagram(s1,s2)"
   ]
  },
  {
   "cell_type": "markdown",
   "id": "e7d1c6e0",
   "metadata": {},
   "source": [
    "#### 22. Implement a function to find the first non-repeating character in a string."
   ]
  },
  {
   "cell_type": "code",
   "execution_count": 57,
   "id": "8d83cfc3",
   "metadata": {},
   "outputs": [],
   "source": [
    "def nonRepeatingChar(s:str)->str:\n",
    "    counts = {}\n",
    "    for i in s:\n",
    "        if i in counts:\n",
    "            counts[i] += 1\n",
    "        else:\n",
    "            counts[i] = 1\n",
    "            \n",
    "    for i in counts:\n",
    "        if counts[i] == 1:\n",
    "            return i    "
   ]
  },
  {
   "cell_type": "code",
   "execution_count": 58,
   "id": "a78ae322",
   "metadata": {},
   "outputs": [
    {
     "data": {
      "text/plain": [
       "'a'"
      ]
     },
     "execution_count": 58,
     "metadata": {},
     "output_type": "execute_result"
    }
   ],
   "source": [
    "s = 'abbccd'\n",
    "nonRepeatingChar(s)"
   ]
  },
  {
   "cell_type": "markdown",
   "id": "5e28fea3",
   "metadata": {},
   "source": [
    "#### 23. Write a program to find the prime factors of a given number."
   ]
  },
  {
   "cell_type": "code",
   "execution_count": 59,
   "id": "3b6eed41",
   "metadata": {},
   "outputs": [],
   "source": [
    "def primeFactor(num:int)->int:\n",
    "    factor = []\n",
    "    divisor = 2\n",
    "    while divisor<=num:\n",
    "        if num % divisor == 0:\n",
    "            factor.append(divisor)\n",
    "            num = num//divisor\n",
    "        else:\n",
    "            divisor += 1\n",
    "    return factor"
   ]
  },
  {
   "cell_type": "code",
   "execution_count": 60,
   "id": "446e72b1",
   "metadata": {},
   "outputs": [
    {
     "data": {
      "text/plain": [
       "[2, 7]"
      ]
     },
     "execution_count": 60,
     "metadata": {},
     "output_type": "execute_result"
    }
   ],
   "source": [
    "num = 14\n",
    "primeFactor(num)"
   ]
  },
  {
   "cell_type": "markdown",
   "id": "ab73eb9c",
   "metadata": {},
   "source": [
    "#### 24. Implement a function to check if a given number is a power of two."
   ]
  },
  {
   "cell_type": "code",
   "execution_count": 61,
   "id": "c36f57ee",
   "metadata": {},
   "outputs": [],
   "source": [
    "def checkSqaure(num:int)->bool:\n",
    "    while num >= 2:\n",
    "        if num % 2==0:\n",
    "            return True\n",
    "        else:\n",
    "            False"
   ]
  },
  {
   "cell_type": "code",
   "execution_count": 62,
   "id": "321851d7",
   "metadata": {},
   "outputs": [],
   "source": [
    "def is_power_of_two(num:int)->bool:\n",
    "    if num <= 0:\n",
    "        return False\n",
    "    while num > 1:\n",
    "        if num % 2 != 0:\n",
    "            return False\n",
    "        num = num // 2\n",
    "\n",
    "    return True"
   ]
  },
  {
   "cell_type": "code",
   "execution_count": 63,
   "id": "91384994",
   "metadata": {},
   "outputs": [
    {
     "data": {
      "text/plain": [
       "True"
      ]
     },
     "execution_count": 63,
     "metadata": {},
     "output_type": "execute_result"
    }
   ],
   "source": [
    "num = 8\n",
    "is_power_of_two(num)"
   ]
  },
  {
   "cell_type": "markdown",
   "id": "e7b0bead",
   "metadata": {},
   "source": [
    "#### 25. Write a Python program to merge two sorted lists into a single sorted list."
   ]
  },
  {
   "cell_type": "code",
   "execution_count": 64,
   "id": "31fcc4f8",
   "metadata": {},
   "outputs": [],
   "source": [
    "from typing import List\n",
    "def mergeList(l1:List[int],l2:List[int])->List[int]:\n",
    "    l1.sort()\n",
    "    l2.sort()\n",
    "    l1.extend(l2)\n",
    "    return l1"
   ]
  },
  {
   "cell_type": "code",
   "execution_count": 65,
   "id": "e31930a2",
   "metadata": {},
   "outputs": [
    {
     "data": {
      "text/plain": [
       "[1, 2, 3, 4, 5, 7, 8, 9]"
      ]
     },
     "execution_count": 65,
     "metadata": {},
     "output_type": "execute_result"
    }
   ],
   "source": [
    "l1 = [1,2,4,3]\n",
    "l2 = [5,7,9,8]\n",
    "mergeList(l1,l2)"
   ]
  },
  {
   "cell_type": "markdown",
   "id": "bcc7dc90",
   "metadata": {},
   "source": [
    "#### 26. Implement a function to find the mode of a list of numbers."
   ]
  },
  {
   "cell_type": "code",
   "execution_count": 66,
   "id": "91611dbf",
   "metadata": {},
   "outputs": [],
   "source": [
    "from typing import List\n",
    "\n",
    "def modeList(l:List[int])->int:\n",
    "    counts = {}\n",
    "    for i in l:\n",
    "        if i in counts:\n",
    "            counts[i]+=1\n",
    "        else:\n",
    "            counts[i] = 1\n",
    "            \n",
    "    max_count = max(counts.values())\n",
    "    \n",
    "    mode = [num for num,count in counts.items() if count == max_count]\n",
    "    \n",
    "    return mode"
   ]
  },
  {
   "cell_type": "code",
   "execution_count": 67,
   "id": "66470cf5",
   "metadata": {},
   "outputs": [
    {
     "name": "stdout",
     "output_type": "stream",
     "text": [
      "1\n",
      "3\n"
     ]
    }
   ],
   "source": [
    "l = [1,5,3,3,8,7,1]\n",
    "for i in modeList(l):\n",
    "    print(i)\n"
   ]
  },
  {
   "cell_type": "markdown",
   "id": "fe74a0ce",
   "metadata": {},
   "source": [
    "#### 27. Write a program to find the greatest common divisor (GCD) of two numbers."
   ]
  },
  {
   "cell_type": "code",
   "execution_count": 68,
   "id": "b5e85345",
   "metadata": {},
   "outputs": [],
   "source": [
    "def commonDivisor(num1:int,num2:int)->int:\n",
    "    factor1 = []\n",
    "    factor2 = []\n",
    "    for i in range(1,num1+1):\n",
    "        if num1 % i == 0:\n",
    "            factor1.append(i)\n",
    "    for i in range(1,num2+1):\n",
    "        if num2 % i == 0:\n",
    "            factor2.append(i)\n",
    "    common = []\n",
    "    for i in factor1:\n",
    "        if i in factor2:\n",
    "            common.append(i)\n",
    "    return common[-1]\n",
    "            "
   ]
  },
  {
   "cell_type": "code",
   "execution_count": 69,
   "id": "0bcd8647",
   "metadata": {},
   "outputs": [
    {
     "data": {
      "text/plain": [
       "10"
      ]
     },
     "execution_count": 69,
     "metadata": {},
     "output_type": "execute_result"
    }
   ],
   "source": [
    "num1 = 10\n",
    "num2 = 20\n",
    "commonDivisor(num1,num2)"
   ]
  },
  {
   "cell_type": "markdown",
   "id": "3a30038b",
   "metadata": {},
   "source": [
    "#### 28. Implement a function to calculate the square root of a given number."
   ]
  },
  {
   "cell_type": "code",
   "execution_count": 70,
   "id": "0e145dab",
   "metadata": {},
   "outputs": [],
   "source": [
    "def squareRoot(num:int)->int:\n",
    "    if num < 0:\n",
    "        return 'Value Error'\n",
    "    else:\n",
    "        return num**0.5"
   ]
  },
  {
   "cell_type": "code",
   "execution_count": 71,
   "id": "82b16d7b",
   "metadata": {},
   "outputs": [
    {
     "data": {
      "text/plain": [
       "2.0"
      ]
     },
     "execution_count": 71,
     "metadata": {},
     "output_type": "execute_result"
    }
   ],
   "source": [
    "num = 4\n",
    "squareRoot(num)"
   ]
  },
  {
   "cell_type": "markdown",
   "id": "2c2cb3bb",
   "metadata": {},
   "source": [
    "#### 29. Write a Python program to check if a given string is a valid palindrome ignoring non-alphanumeric characters."
   ]
  },
  {
   "cell_type": "code",
   "execution_count": 72,
   "id": "065f4ca6",
   "metadata": {},
   "outputs": [],
   "source": [
    "def reverseString(s:str)->str:\n",
    "    stack = []\n",
    "    for i in range(len(s)-1,-1,-1):\n",
    "        stack.append(s[i])\n",
    "    return \"\".join(stack)\n",
    "\n",
    "def palindromeString(s:str)->bool:\n",
    "    s = s.lower()\n",
    "    new_s = ''\n",
    "    for char in s:\n",
    "        if char.isalnum():\n",
    "            new_s = new_s + char       \n",
    "    if new_s == reverseString(new_s):\n",
    "        return True\n",
    "    else:\n",
    "        return False"
   ]
  },
  {
   "cell_type": "code",
   "execution_count": 73,
   "id": "26478ec8",
   "metadata": {},
   "outputs": [
    {
     "data": {
      "text/plain": [
       "True"
      ]
     },
     "execution_count": 73,
     "metadata": {},
     "output_type": "execute_result"
    }
   ],
   "source": [
    "s ='Po@p'\n",
    "palindromeString(s)"
   ]
  },
  {
   "cell_type": "markdown",
   "id": "4072de45",
   "metadata": {},
   "source": [
    "#### 30. Implement a function to find the minimum element in a rotated sorted list."
   ]
  },
  {
   "cell_type": "code",
   "execution_count": 74,
   "id": "7b074727",
   "metadata": {},
   "outputs": [],
   "source": [
    "from typing import List\n",
    "\n",
    "def findMin(nums: List[int]) -> int:\n",
    "    left = 0\n",
    "    right = len(nums) - 1\n",
    "\n",
    "    while left < right:\n",
    "        mid = left + (right - left) // 2\n",
    "        if nums[mid] > nums[right]:\n",
    "            left = mid + 1\n",
    "        else:\n",
    "            right = mid\n",
    "    return nums[left]"
   ]
  },
  {
   "cell_type": "code",
   "execution_count": 75,
   "id": "efbdadf8",
   "metadata": {},
   "outputs": [
    {
     "name": "stdout",
     "output_type": "stream",
     "text": [
      "1\n"
     ]
    }
   ],
   "source": [
    "nums = [4, 5, 6, 7, 1, 2]\n",
    "min_element = findMin(nums)\n",
    "print(min_element)"
   ]
  },
  {
   "cell_type": "markdown",
   "id": "b84459ed",
   "metadata": {},
   "source": [
    "#### 31. Write a program to find the sum of all even numbers in a list."
   ]
  },
  {
   "cell_type": "code",
   "execution_count": 76,
   "id": "d5066865",
   "metadata": {},
   "outputs": [],
   "source": [
    "from typing import List\n",
    "def sumEven(l:List[int])->int:\n",
    "    sum_ = 0\n",
    "    for i in l:\n",
    "        if i % 2 == 0:\n",
    "            sum_ = sum_ + i\n",
    "    return sum_"
   ]
  },
  {
   "cell_type": "code",
   "execution_count": 77,
   "id": "337c9372",
   "metadata": {},
   "outputs": [
    {
     "data": {
      "text/plain": [
       "14"
      ]
     },
     "execution_count": 77,
     "metadata": {},
     "output_type": "execute_result"
    }
   ],
   "source": [
    "l = [1,2,3,4,8]\n",
    "sumEven(l)"
   ]
  },
  {
   "cell_type": "markdown",
   "id": "313eddcc",
   "metadata": {},
   "source": [
    "#### 32. Implement a function to calculate the power of a number using recursion."
   ]
  },
  {
   "cell_type": "code",
   "execution_count": 78,
   "id": "9109b18e",
   "metadata": {},
   "outputs": [],
   "source": [
    "def power(base, exponent):\n",
    "    if exponent == 0:\n",
    "        return 1\n",
    "    elif exponent < 0:\n",
    "        return 1 / power(base, -exponent)\n",
    "    else:\n",
    "        return base * power(base, exponent - 1)"
   ]
  },
  {
   "cell_type": "code",
   "execution_count": 79,
   "id": "98ed7e85",
   "metadata": {},
   "outputs": [
    {
     "data": {
      "text/plain": [
       "4"
      ]
     },
     "execution_count": 79,
     "metadata": {},
     "output_type": "execute_result"
    }
   ],
   "source": [
    "power(2,2)"
   ]
  },
  {
   "cell_type": "markdown",
   "id": "f24b3247",
   "metadata": {},
   "source": [
    "#### 33. Write a Python program to remove duplicates from a list while preserving the order."
   ]
  },
  {
   "cell_type": "code",
   "execution_count": 80,
   "id": "37d7c953",
   "metadata": {},
   "outputs": [],
   "source": [
    "from typing import List\n",
    "\n",
    "def removeDuplicates(arr:List[int])->List[int]:\n",
    "    stack = []\n",
    "    for i in arr:\n",
    "        if i not in stack:\n",
    "            stack.append(i)\n",
    "    return stack"
   ]
  },
  {
   "cell_type": "code",
   "execution_count": 81,
   "id": "f626fa27",
   "metadata": {},
   "outputs": [
    {
     "data": {
      "text/plain": [
       "[1, 2, 3, 7, 6]"
      ]
     },
     "execution_count": 81,
     "metadata": {},
     "output_type": "execute_result"
    }
   ],
   "source": [
    "arr = [1,2,3,3,7,6,7]\n",
    "removeDuplicates(arr)"
   ]
  },
  {
   "cell_type": "markdown",
   "id": "b7aee426",
   "metadata": {},
   "source": [
    "#### 34. Implement a function to find the longest common prefix among a list of strings."
   ]
  },
  {
   "cell_type": "code",
   "execution_count": 82,
   "id": "ac36e3a9",
   "metadata": {},
   "outputs": [],
   "source": [
    "from typing import List\n",
    "\n",
    "def longest_common_prefix(s: List[str]) -> str:\n",
    "    if not s:\n",
    "        return \"\"\n",
    "\n",
    "    prefix = s[0]\n",
    "    for i in range(1, len(s)):\n",
    "        while s[i].find(prefix) != 0:\n",
    "            prefix = prefix[:-1]\n",
    "            if not prefix:\n",
    "                return \"\"\n",
    "    \n",
    "    return prefix"
   ]
  },
  {
   "cell_type": "code",
   "execution_count": 83,
   "id": "dce028f3",
   "metadata": {},
   "outputs": [
    {
     "data": {
      "text/plain": [
       "'fl'"
      ]
     },
     "execution_count": 83,
     "metadata": {},
     "output_type": "execute_result"
    }
   ],
   "source": [
    "s = [\"flower\", \"flow\", \"flight\"]\n",
    "longest_common_prefix(s)"
   ]
  },
  {
   "cell_type": "markdown",
   "id": "b975e3c4",
   "metadata": {},
   "source": [
    "#### 35. Write a program to check if a given number is a perfect square."
   ]
  },
  {
   "cell_type": "code",
   "execution_count": 84,
   "id": "f611bbee",
   "metadata": {},
   "outputs": [],
   "source": [
    "import math\n",
    "\n",
    "def isPerfectSquare(num):\n",
    "    sqrt = math.sqrt(num)\n",
    "    return int(sqrt) ** 2 == num"
   ]
  },
  {
   "cell_type": "code",
   "execution_count": 85,
   "id": "7ff540eb",
   "metadata": {},
   "outputs": [
    {
     "data": {
      "text/plain": [
       "True"
      ]
     },
     "execution_count": 85,
     "metadata": {},
     "output_type": "execute_result"
    }
   ],
   "source": [
    "num = 4\n",
    "isPerfectSquare(num)"
   ]
  },
  {
   "cell_type": "markdown",
   "id": "1c24ff7a",
   "metadata": {},
   "source": [
    "#### 36. Implement a function to calculate the product of all elements in a list."
   ]
  },
  {
   "cell_type": "code",
   "execution_count": 86,
   "id": "f260bf97",
   "metadata": {},
   "outputs": [],
   "source": [
    "from typing import List\n",
    "\n",
    "def elementProduct(arr:List[int])->int:\n",
    "    product = 1\n",
    "    for i in arr:\n",
    "        product = product * i\n",
    "        \n",
    "    return product     "
   ]
  },
  {
   "cell_type": "code",
   "execution_count": 87,
   "id": "7564a1fd",
   "metadata": {},
   "outputs": [
    {
     "data": {
      "text/plain": [
       "120"
      ]
     },
     "execution_count": 87,
     "metadata": {},
     "output_type": "execute_result"
    }
   ],
   "source": [
    "arr = [1,2,3,4,5]\n",
    "elementProduct(arr)"
   ]
  },
  {
   "cell_type": "markdown",
   "id": "9556a05e",
   "metadata": {},
   "source": [
    "#### 37. Write a Python program to reverse the order of words in a sentence while preserving the word order."
   ]
  },
  {
   "cell_type": "code",
   "execution_count": 88,
   "id": "ec89c489",
   "metadata": {},
   "outputs": [],
   "source": [
    "def reverseSentence(s:str)->str:\n",
    "    lst = []\n",
    "    words = s.split(\" \")\n",
    "    for word in range(len(words)-1,-1,-1):\n",
    "        lst.append(words[word])\n",
    "    return \" \".join(lst)"
   ]
  },
  {
   "cell_type": "code",
   "execution_count": 89,
   "id": "7b777107",
   "metadata": {},
   "outputs": [
    {
     "data": {
      "text/plain": [
       "'World Hello'"
      ]
     },
     "execution_count": 89,
     "metadata": {},
     "output_type": "execute_result"
    }
   ],
   "source": [
    "s = \"Hello World\"\n",
    "reverseSentence(s)"
   ]
  },
  {
   "cell_type": "markdown",
   "id": "dc7e1762",
   "metadata": {},
   "source": [
    "#### 38. Implement a function to find the missing number in a given list of consecutive numbers."
   ]
  },
  {
   "cell_type": "code",
   "execution_count": 90,
   "id": "ccddc8bf",
   "metadata": {},
   "outputs": [],
   "source": [
    "from typing import List\n",
    "\n",
    "def missingNumber(arr:List[int])->int:\n",
    "    arr.sort()\n",
    "    missing_numbers = []\n",
    "    if arr[0] > 0:\n",
    "        for num in range(0, arr[0]):\n",
    "            missing_numbers.append(num)\n",
    "    \n",
    "    for i in range(len(arr)-1):\n",
    "        if abs(arr[i] - arr[i+1]) > 1:\n",
    "            for num in range(arr[i]+1, arr[i+1]):\n",
    "                missing_numbers.append(num)\n",
    "    \n",
    "    return missing_numbers"
   ]
  },
  {
   "cell_type": "code",
   "execution_count": 91,
   "id": "f644c37c",
   "metadata": {},
   "outputs": [
    {
     "data": {
      "text/plain": [
       "[-1, 0, 6]"
      ]
     },
     "execution_count": 91,
     "metadata": {},
     "output_type": "execute_result"
    }
   ],
   "source": [
    "arr = [-2,1,2,4,3,5,7]\n",
    "missingNumber(arr)"
   ]
  },
  {
   "cell_type": "markdown",
   "id": "63d42f9d",
   "metadata": {},
   "source": [
    "#### 39. Write a program to find the sum of digits of a given number."
   ]
  },
  {
   "cell_type": "code",
   "execution_count": 92,
   "id": "f5f6248f",
   "metadata": {},
   "outputs": [],
   "source": [
    "def sumOfDigit(num:int)->int:\n",
    "    sum_ = 0\n",
    "    while num>0:\n",
    "        sum_ = sum_ + (num % 10)\n",
    "        num = num // 10\n",
    "    return sum_"
   ]
  },
  {
   "cell_type": "code",
   "execution_count": 93,
   "id": "af8826b7",
   "metadata": {},
   "outputs": [
    {
     "data": {
      "text/plain": [
       "6"
      ]
     },
     "execution_count": 93,
     "metadata": {},
     "output_type": "execute_result"
    }
   ],
   "source": [
    "num = 15\n",
    "sumOfDigit(num)"
   ]
  },
  {
   "cell_type": "markdown",
   "id": "c2199c8f",
   "metadata": {},
   "source": [
    "#### 40. Implement a function to check if a given string is a valid palindrome considering case sensitivity."
   ]
  },
  {
   "cell_type": "code",
   "execution_count": 94,
   "id": "cf785e63",
   "metadata": {},
   "outputs": [],
   "source": [
    "def reverseString(s:str)->str:\n",
    "    stack = []\n",
    "    for i in range(len(s)-1,-1,-1):\n",
    "        stack.append(s[i])\n",
    "    return \"\".join(stack)\n",
    "\n",
    "def palindromeString(s:str)->bool:      \n",
    "    if s == reverseString(s):\n",
    "        return True\n",
    "    else:\n",
    "        return False"
   ]
  },
  {
   "cell_type": "code",
   "execution_count": 95,
   "id": "7c090072",
   "metadata": {},
   "outputs": [
    {
     "data": {
      "text/plain": [
       "False"
      ]
     },
     "execution_count": 95,
     "metadata": {},
     "output_type": "execute_result"
    }
   ],
   "source": [
    "s = 'Pop'\n",
    "palindromeString(s)"
   ]
  },
  {
   "cell_type": "markdown",
   "id": "6b18698d",
   "metadata": {},
   "source": [
    "#### 41. Write a Python program to find the smallest missing positive integer in a list."
   ]
  },
  {
   "cell_type": "code",
   "execution_count": 96,
   "id": "8897c985",
   "metadata": {},
   "outputs": [],
   "source": [
    "from typing import List\n",
    "\n",
    "def missingNumber(arr:List[int])->int:\n",
    "    arr.sort()\n",
    "    missing_numbers = []\n",
    "    for i in range(len(arr)-1):\n",
    "        if abs(arr[i] - arr[i+1]) > 1:\n",
    "            for num in range(arr[i]+1, arr[i+1]):\n",
    "                missing_numbers.append(num)\n",
    "    return missing_numbers[0]"
   ]
  },
  {
   "cell_type": "code",
   "execution_count": 97,
   "id": "8ebc0144",
   "metadata": {},
   "outputs": [
    {
     "data": {
      "text/plain": [
       "3"
      ]
     },
     "execution_count": 97,
     "metadata": {},
     "output_type": "execute_result"
    }
   ],
   "source": [
    "arr = [1,2,5,6]\n",
    "missingNumber(arr)"
   ]
  },
  {
   "cell_type": "markdown",
   "id": "92f55a46",
   "metadata": {},
   "source": [
    "#### 42. Implement a function to find the longest palindrome substring in a given string."
   ]
  },
  {
   "cell_type": "code",
   "execution_count": 98,
   "id": "912d7da2",
   "metadata": {},
   "outputs": [],
   "source": [
    "def reverseString(s:str)->str:\n",
    "    stack = []\n",
    "    for i in range(len(s)-1,-1,-1):\n",
    "        stack.append(s[i])\n",
    "    return \"\".join(stack)\n",
    "\n",
    "def palindromeString(s:str)->bool:      \n",
    "    if s == reverseString(s):\n",
    "        return True\n",
    "    else:\n",
    "        return False\n",
    "    \n",
    "def longestPalindrome(sentence:str)->str:\n",
    "    sentence = sentence.split(\" \")\n",
    "    palindrome_list = []\n",
    "    for word in sentence:\n",
    "        if palindromeString(word):\n",
    "            palindrome_list.append(word)\n",
    "    palindrome_list.sort()\n",
    "        \n",
    "    return palindrome_list[0]\n",
    "            "
   ]
  },
  {
   "cell_type": "code",
   "execution_count": 99,
   "id": "06a547ca",
   "metadata": {},
   "outputs": [
    {
     "data": {
      "text/plain": [
       "'abcba'"
      ]
     },
     "execution_count": 99,
     "metadata": {},
     "output_type": "execute_result"
    }
   ],
   "source": [
    "s = 'pop talk abcba'\n",
    "longestPalindrome(s)"
   ]
  },
  {
   "cell_type": "code",
   "execution_count": 100,
   "id": "e456c601",
   "metadata": {},
   "outputs": [],
   "source": [
    "def longestPalindrome(sentence: str) -> str:\n",
    "    sentence = sentence.split(\" \")\n",
    "    palindrome_list = []\n",
    "    max_length = 0\n",
    "    \n",
    "    for word in sentence:\n",
    "        if len(word) > max_length and word == word[::-1]:\n",
    "            max_length = len(word)\n",
    "            palindrome_list = [word]\n",
    "        elif len(word) == max_length and word == word[::-1]:\n",
    "            palindrome_list.append(word)\n",
    "    \n",
    "    if palindrome_list:\n",
    "        palindrome_list.sort()\n",
    "        return palindrome_list[0]\n",
    "    else:\n",
    "        return \"\""
   ]
  },
  {
   "cell_type": "code",
   "execution_count": 101,
   "id": "2ce77522",
   "metadata": {},
   "outputs": [
    {
     "data": {
      "text/plain": [
       "'abcba'"
      ]
     },
     "execution_count": 101,
     "metadata": {},
     "output_type": "execute_result"
    }
   ],
   "source": [
    "longestPalindrome(s)"
   ]
  },
  {
   "cell_type": "markdown",
   "id": "b8e4de1e",
   "metadata": {},
   "source": [
    "#### 43. Write a program to find the number of occurrences of a given element in a list."
   ]
  },
  {
   "cell_type": "code",
   "execution_count": 102,
   "id": "ea93a8e7",
   "metadata": {},
   "outputs": [],
   "source": [
    "from typing import List\n",
    "\n",
    "def countElement(arr: List)->dict:\n",
    "    counts = {}\n",
    "    for element in arr:\n",
    "        if element in counts:\n",
    "            counts[element]+=1\n",
    "        else:\n",
    "            counts[element]=1\n",
    "    return counts   "
   ]
  },
  {
   "cell_type": "code",
   "execution_count": 103,
   "id": "40c1bc55",
   "metadata": {},
   "outputs": [
    {
     "data": {
      "text/plain": [
       "{'a': 2, 1: 2, 4: 1, 7: 1, 5: 1, 'b': 1}"
      ]
     },
     "execution_count": 103,
     "metadata": {},
     "output_type": "execute_result"
    }
   ],
   "source": [
    "arr = [\"a\",1,1,4,7,5,\"b\",\"a\"]\n",
    "countElement(arr)"
   ]
  },
  {
   "cell_type": "markdown",
   "id": "3e588f1a",
   "metadata": {},
   "source": [
    "#### 44. Implement a function to check if a given number is a perfect number."
   ]
  },
  {
   "cell_type": "code",
   "execution_count": 104,
   "id": "c3c4c2c6",
   "metadata": {},
   "outputs": [],
   "source": [
    "def perfectNumber(num:int)->int:\n",
    "    factor = []\n",
    "    for i in range(1,num-1):\n",
    "        if num % i == 0:\n",
    "            factor.append(i)\n",
    "    if sum(factor) == num:\n",
    "        return True\n",
    "    else:\n",
    "        False"
   ]
  },
  {
   "cell_type": "code",
   "execution_count": 105,
   "id": "d4eed748",
   "metadata": {},
   "outputs": [],
   "source": [
    "num = 10\n",
    "perfectNumber(num)"
   ]
  },
  {
   "cell_type": "markdown",
   "id": "7bd06ef2",
   "metadata": {},
   "source": [
    "#### 45. Write a Python program to remove all duplicates from a string."
   ]
  },
  {
   "cell_type": "code",
   "execution_count": 106,
   "id": "0351ae31",
   "metadata": {},
   "outputs": [],
   "source": [
    "from typing import List\n",
    "\n",
    "def removeDuplicates(arr:List)->List:\n",
    "    stack = []\n",
    "    for element in arr:\n",
    "        while stack and stack[-1]==element:\n",
    "            stack.pop()\n",
    "        stack.append(element)\n",
    "    return stack"
   ]
  },
  {
   "cell_type": "code",
   "execution_count": 107,
   "id": "f22f47eb",
   "metadata": {},
   "outputs": [
    {
     "data": {
      "text/plain": [
       "['a', 1, 2, 3, 'b']"
      ]
     },
     "execution_count": 107,
     "metadata": {},
     "output_type": "execute_result"
    }
   ],
   "source": [
    "arr = [\"a\",\"a\",1,2,2,3,\"b\",]\n",
    "removeDuplicates(arr)"
   ]
  },
  {
   "cell_type": "markdown",
   "id": "ab8ef7bb",
   "metadata": {},
   "source": [
    "#### 46. Implement a function to find the first missing positive"
   ]
  },
  {
   "cell_type": "code",
   "execution_count": 108,
   "id": "70659f2f",
   "metadata": {},
   "outputs": [],
   "source": [
    "from typing import List\n",
    "\n",
    "def missingNumber(arr:List[int])->int:\n",
    "    arr.sort()\n",
    "    missing_numbers = []\n",
    "    for i in range(len(arr)-1):\n",
    "        if abs(arr[i] - arr[i+1]) > 1:\n",
    "            for num in range(arr[i]+1, arr[i+1]):\n",
    "                missing_numbers.append(num)\n",
    "    return missing_numbers[0]"
   ]
  },
  {
   "cell_type": "code",
   "execution_count": 109,
   "id": "a604a4a2",
   "metadata": {},
   "outputs": [
    {
     "data": {
      "text/plain": [
       "3"
      ]
     },
     "execution_count": 109,
     "metadata": {},
     "output_type": "execute_result"
    }
   ],
   "source": [
    "arr = [1,2,5,6]\n",
    "missingNumber(arr)"
   ]
  },
  {
   "cell_type": "code",
   "execution_count": null,
   "id": "fd1fb491",
   "metadata": {},
   "outputs": [],
   "source": []
  }
 ],
 "metadata": {
  "kernelspec": {
   "display_name": "Python 3 (ipykernel)",
   "language": "python",
   "name": "python3"
  },
  "language_info": {
   "codemirror_mode": {
    "name": "ipython",
    "version": 3
   },
   "file_extension": ".py",
   "mimetype": "text/x-python",
   "name": "python",
   "nbconvert_exporter": "python",
   "pygments_lexer": "ipython3",
   "version": "3.9.12"
  }
 },
 "nbformat": 4,
 "nbformat_minor": 5
}
